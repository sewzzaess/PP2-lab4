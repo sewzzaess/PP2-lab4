{
 "cells": [
  {
   "cell_type": "code",
   "execution_count": 1,
   "id": "63c37eb7-c392-43e8-b537-006f1a172bb9",
   "metadata": {},
   "outputs": [
    {
     "name": "stdout",
     "output_type": "stream",
     "text": [
      "Current Date: 2025-02-19\n",
      "Date after subtracting 5 days: 2025-02-14\n"
     ]
    }
   ],
   "source": [
    "from datetime import date, timedelta\n",
    "\n",
    "current_date = date.today()\n",
    "new_date = current_date - timedelta(days=5)\n",
    "\n",
    "print(\"Current Date:\", current_date)\n",
    "print(\"Date after subtracting 5 days:\", new_date)"
   ]
  },
  {
   "cell_type": "code",
   "execution_count": 3,
   "id": "432bf7fc-edfd-4be6-b209-20bb0ab6efe7",
   "metadata": {},
   "outputs": [
    {
     "name": "stdout",
     "output_type": "stream",
     "text": [
      "Yesterday: 2025-02-18\n",
      "Today: 2025-02-19\n",
      "Tomorrow: 2025-02-20\n"
     ]
    }
   ],
   "source": [
    "from datetime import date, timedelta\n",
    "\n",
    "today = date.today()\n",
    "yesterday = today - timedelta(days=1)\n",
    "tomorrow = today + timedelta(days=1)\n",
    "\n",
    "print(\"Yesterday:\", yesterday)\n",
    "print(\"Today:\", today)\n",
    "print(\"Tomorrow:\", tomorrow)\n"
   ]
  },
  {
   "cell_type": "code",
   "execution_count": 10,
   "id": "a8636f5b-516a-494f-962c-af23f709d046",
   "metadata": {},
   "outputs": [
    {
     "name": "stdout",
     "output_type": "stream",
     "text": [
      "Original datetime: 2025-02-19 13:48:33.236174\n",
      "Without microseconds: 2025-02-19 13:48:33\n"
     ]
    }
   ],
   "source": [
    "from datetime import datetime\n",
    "\n",
    "current_datetime = datetime.now()\n",
    "datetime_without_microseconds = current_datetime.replace(microsecond=0)\n",
    "\n",
    "print(\"Original datetime:\", current_datetime)\n",
    "print(\"Without microseconds:\", datetime_without_microseconds)"
   ]
  },
  {
   "cell_type": "code",
   "execution_count": 20,
   "id": "807e661e-f89f-474c-94ae-b87e17b52f4b",
   "metadata": {},
   "outputs": [
    {
     "name": "stdout",
     "output_type": "stream",
     "text": [
      "Difference in seconds: 440100.0\n"
     ]
    }
   ],
   "source": [
    "from datetime import datetime\n",
    "\n",
    "date1 = datetime(2024, 2, 10, 12, 30, 0)\n",
    "date2 = datetime(2024, 2, 15, 14, 45, 0)\n",
    "\n",
    "difference = (date2 - date1).total_seconds()\n",
    "\n",
    "print(\"Difference in seconds:\", difference)"
   ]
  }
 ],
 "metadata": {
  "kernelspec": {
   "display_name": "Python [conda env:base] *",
   "language": "python",
   "name": "conda-base-py"
  },
  "language_info": {
   "codemirror_mode": {
    "name": "ipython",
    "version": 3
   },
   "file_extension": ".py",
   "mimetype": "text/x-python",
   "name": "python",
   "nbconvert_exporter": "python",
   "pygments_lexer": "ipython3",
   "version": "3.12.7"
  }
 },
 "nbformat": 4,
 "nbformat_minor": 5
}
