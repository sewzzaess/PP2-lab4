{
 "cells": [
  {
   "cell_type": "code",
   "execution_count": 34,
   "id": "5b46fa81-b9ca-48fc-8f4d-70f37db3db90",
   "metadata": {},
   "outputs": [
    {
     "name": "stdin",
     "output_type": "stream",
     "text": [
      "Input degree:  85\n"
     ]
    },
    {
     "name": "stdout",
     "output_type": "stream",
     "text": [
      "Output radian: 1.48353\n"
     ]
    }
   ],
   "source": [
    "import math\n",
    "\n",
    "def degree_to_radian(degree):\n",
    "    return round(math.radians(degree), 6)\n",
    "\n",
    "degree = float(input(\"Input degree: \"))\n",
    "print(\"Output radian:\", degree_to_radian(degree))"
   ]
  },
  {
   "cell_type": "code",
   "execution_count": 36,
   "id": "749114cc-876b-4a3d-aacf-6c1c0f44d7fb",
   "metadata": {},
   "outputs": [
    {
     "name": "stdin",
     "output_type": "stream",
     "text": [
      "Height:  58\n",
      "Base, first value:  5\n",
      "Base, second value:  5\n"
     ]
    },
    {
     "name": "stdout",
     "output_type": "stream",
     "text": [
      "Expected Output: 290.0\n"
     ]
    }
   ],
   "source": [
    "def trapezoid_area(height, base1, base2):\n",
    "    return 0.5 * (base1 + base2) * height\n",
    "\n",
    "height = float(input(\"Height: \"))\n",
    "base1 = float(input(\"Base, first value: \"))\n",
    "base2 = float(input(\"Base, second value: \"))\n",
    "print(\"Expected Output:\", trapezoid_area(height, base1, base2))"
   ]
  },
  {
   "cell_type": "code",
   "execution_count": 38,
   "id": "473496f7-bdff-4c28-9056-94b1a854f140",
   "metadata": {},
   "outputs": [
    {
     "name": "stdin",
     "output_type": "stream",
     "text": [
      "Input number of sides:  4\n",
      "Input the length of a side:  5\n"
     ]
    },
    {
     "name": "stdout",
     "output_type": "stream",
     "text": [
      "The area of the polygon is: 25.0\n"
     ]
    }
   ],
   "source": [
    "import math\n",
    "\n",
    "def regular_polygon_area(sides, length):\n",
    "    return round((sides * length**2) / (4 * math.tan(math.pi / sides)), 2)\n",
    "\n",
    "sides = int(input(\"Input number of sides: \"))\n",
    "length = float(input(\"Input the length of a side: \"))\n",
    "print(\"The area of the polygon is:\", regular_polygon_area(sides, length))"
   ]
  },
  {
   "cell_type": "code",
   "execution_count": 40,
   "id": "b6c478cf-2727-46fb-8acc-23e0ed114c01",
   "metadata": {},
   "outputs": [
    {
     "name": "stdin",
     "output_type": "stream",
     "text": [
      "Length of base:  80\n",
      "Height of parallelogram:  4\n"
     ]
    },
    {
     "name": "stdout",
     "output_type": "stream",
     "text": [
      "Expected Output: 320.0\n"
     ]
    }
   ],
   "source": [
    "def parallelogram_area(base, height):\n",
    "    return base * height\n",
    "\n",
    "base = float(input(\"Length of base: \"))\n",
    "height = float(input(\"Height of parallelogram: \"))\n",
    "print(\"Expected Output:\", parallelogram_area(base, height))"
   ]
  }
 ],
 "metadata": {
  "kernelspec": {
   "display_name": "Python [conda env:base] *",
   "language": "python",
   "name": "conda-base-py"
  },
  "language_info": {
   "codemirror_mode": {
    "name": "ipython",
    "version": 3
   },
   "file_extension": ".py",
   "mimetype": "text/x-python",
   "name": "python",
   "nbconvert_exporter": "python",
   "pygments_lexer": "ipython3",
   "version": "3.12.7"
  }
 },
 "nbformat": 4,
 "nbformat_minor": 5
}
